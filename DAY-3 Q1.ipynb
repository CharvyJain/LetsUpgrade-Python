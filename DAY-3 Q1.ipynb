{
 "cells": [
  {
   "cell_type": "code",
   "execution_count": 3,
   "metadata": {},
   "outputs": [
    {
     "name": "stdout",
     "output_type": "stream",
     "text": [
      "Enter no. of feets - 5600\n",
      "turn around and try again\n"
     ]
    }
   ],
   "source": [
    "alt1 = input(\"Enter no. of feets - \")\n",
    "alt = int(alt1)\n",
    "if alt == 1000:\n",
    "    print(\"Land the plane\")\n",
    "elif (alt > 1000 and alt < 5000):\n",
    "    print(\"Bring down the plane to 1000ft\")\n",
    "else:\n",
    "    print(\"turn around and try again\")"
   ]
  },
  {
   "cell_type": "code",
   "execution_count": null,
   "metadata": {},
   "outputs": [],
   "source": []
  }
 ],
 "metadata": {
  "kernelspec": {
   "display_name": "Python 3",
   "language": "python",
   "name": "python3"
  },
  "language_info": {
   "codemirror_mode": {
    "name": "ipython",
    "version": 3
   },
   "file_extension": ".py",
   "mimetype": "text/x-python",
   "name": "python",
   "nbconvert_exporter": "python",
   "pygments_lexer": "ipython3",
   "version": "3.7.8"
  }
 },
 "nbformat": 4,
 "nbformat_minor": 4
}
