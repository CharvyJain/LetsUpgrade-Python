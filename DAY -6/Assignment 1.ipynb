{
 "cells": [
  {
   "cell_type": "markdown",
   "metadata": {},
   "source": [
    "## BANK ACCOUNT"
   ]
  },
  {
   "cell_type": "code",
   "execution_count": 38,
   "metadata": {},
   "outputs": [],
   "source": [
    "class Bank_Account:\n",
    "    \n",
    "    def __init__(self, owner, balance):\n",
    "        self.owner = owner\n",
    "        self.balance = balance\n",
    "    \n",
    "    def deposit(self, amount1):\n",
    "        self.balance += amount1\n",
    "        print(\"Total Amount Deposited:\", self.balance)\n",
    "    \n",
    "    def withdraw(self, amount2):\n",
    "           if self.balance > amount2:\n",
    "                self.balance -= amount2\n",
    "                print(\"Your New Balance is {balance}\" .format(balance = self.balance))\n",
    "           else:\n",
    "               print(\"Check Your Balance\")"
   ]
  },
  {
   "cell_type": "code",
   "execution_count": 39,
   "metadata": {},
   "outputs": [],
   "source": [
    "customer = Bank_Account(\"Charvy Jain\", 5000)"
   ]
  },
  {
   "cell_type": "code",
   "execution_count": 40,
   "metadata": {},
   "outputs": [
    {
     "name": "stdout",
     "output_type": "stream",
     "text": [
      "Total Amount Deposited: 7000\n"
     ]
    }
   ],
   "source": [
    "customer.deposit(2000)"
   ]
  },
  {
   "cell_type": "code",
   "execution_count": 41,
   "metadata": {
    "scrolled": true
   },
   "outputs": [
    {
     "name": "stdout",
     "output_type": "stream",
     "text": [
      "Your New Balance is 4000\n"
     ]
    }
   ],
   "source": [
    "customer.withdraw(3000)"
   ]
  },
  {
   "cell_type": "code",
   "execution_count": 42,
   "metadata": {},
   "outputs": [
    {
     "name": "stdout",
     "output_type": "stream",
     "text": [
      "Check Your Balance\n"
     ]
    }
   ],
   "source": [
    "customer.withdraw(9000)"
   ]
  }
 ],
 "metadata": {
  "kernelspec": {
   "display_name": "Python 3",
   "language": "python",
   "name": "python3"
  },
  "language_info": {
   "codemirror_mode": {
    "name": "ipython",
    "version": 3
   },
   "file_extension": ".py",
   "mimetype": "text/x-python",
   "name": "python",
   "nbconvert_exporter": "python",
   "pygments_lexer": "ipython3",
   "version": "3.7.8"
  }
 },
 "nbformat": 4,
 "nbformat_minor": 4
}
