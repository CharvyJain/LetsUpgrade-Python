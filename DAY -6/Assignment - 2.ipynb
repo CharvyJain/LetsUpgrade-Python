{
 "cells": [
  {
   "cell_type": "markdown",
   "metadata": {},
   "source": [
    "## Cone Class :"
   ]
  },
  {
   "cell_type": "code",
   "execution_count": 1,
   "metadata": {},
   "outputs": [],
   "source": [
    "import math\n",
    "pi = math.pi\n",
    "\n",
    "class Cone:\n",
    "    \n",
    "    def __init__(self, Radius, Height):\n",
    "        self.Radius = Radius\n",
    "        self.Height = Height   \n",
    "     \n",
    "    def volume(self):\n",
    "        r=self.Radius\n",
    "        h=self.Height\n",
    "        volume_cone=(1/3)*pi*r*r*h\n",
    "        print(\"Volume of Cone is = {}\".format(volume_cone))\n",
    "\n",
    "    def surfacearea(self):\n",
    "        r=self.Radius\n",
    "        h=self.Height\n",
    "        surfacearea_cone=(pi*r*r) + (pi*r*math.sqrt(r*r+h*h))\n",
    "        print(\"Surface Area of Cone is = {}\".format(surfacearea_cone))    "
   ]
  },
  {
   "cell_type": "code",
   "execution_count": 2,
   "metadata": {},
   "outputs": [],
   "source": [
    "C = Cone(10,10)"
   ]
  },
  {
   "cell_type": "code",
   "execution_count": 4,
   "metadata": {},
   "outputs": [
    {
     "name": "stdout",
     "output_type": "stream",
     "text": [
      "Volume of Cone is = 718.377520120866\n"
     ]
    }
   ],
   "source": [
    "C.volume()"
   ]
  },
  {
   "cell_type": "code",
   "execution_count": 5,
   "metadata": {},
   "outputs": [
    {
     "name": "stdout",
     "output_type": "stream",
     "text": [
      "Surface Area of Cone is = 498.15396184689547\n"
     ]
    }
   ],
   "source": [
    "C.surfacearea()"
   ]
  }
 ],
 "metadata": {
  "kernelspec": {
   "display_name": "Python 3",
   "language": "python",
   "name": "python3"
  },
  "language_info": {
   "codemirror_mode": {
    "name": "ipython",
    "version": 3
   },
   "file_extension": ".py",
   "mimetype": "text/x-python",
   "name": "python",
   "nbconvert_exporter": "python",
   "pygments_lexer": "ipython3",
   "version": "3.7.8"
  }
 },
 "nbformat": 4,
 "nbformat_minor": 4
}
