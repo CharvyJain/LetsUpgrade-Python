{
 "cells": [
  {
   "cell_type": "markdown",
   "metadata": {},
   "source": [
    "## Writing Python Function And Doing Unit Testing"
   ]
  },
  {
   "cell_type": "code",
   "execution_count": 33,
   "metadata": {},
   "outputs": [
    {
     "name": "stdout",
     "output_type": "stream",
     "text": [
      "Requirement already satisfied: pylint in /srv/conda/envs/notebook/lib/python3.7/site-packages (2.6.0)\n",
      "Requirement already satisfied: mccabe<0.7,>=0.6 in /srv/conda/envs/notebook/lib/python3.7/site-packages (from pylint) (0.6.1)\n",
      "Requirement already satisfied: astroid<=2.5,>=2.4.0 in /srv/conda/envs/notebook/lib/python3.7/site-packages (from pylint) (2.4.2)\n",
      "Requirement already satisfied: toml>=0.7.1 in /srv/conda/envs/notebook/lib/python3.7/site-packages (from pylint) (0.10.1)\n",
      "Requirement already satisfied: isort<6,>=4.2.5 in /srv/conda/envs/notebook/lib/python3.7/site-packages (from pylint) (5.5.2)\n",
      "Requirement already satisfied: six~=1.12 in /srv/conda/envs/notebook/lib/python3.7/site-packages (from astroid<=2.5,>=2.4.0->pylint) (1.15.0)\n",
      "Requirement already satisfied: lazy-object-proxy==1.4.* in /srv/conda/envs/notebook/lib/python3.7/site-packages (from astroid<=2.5,>=2.4.0->pylint) (1.4.3)\n",
      "Requirement already satisfied: typed-ast<1.5,>=1.4.0; implementation_name == \"cpython\" and python_version < \"3.8\" in /srv/conda/envs/notebook/lib/python3.7/site-packages (from astroid<=2.5,>=2.4.0->pylint) (1.4.1)\n",
      "Requirement already satisfied: wrapt~=1.11 in /srv/conda/envs/notebook/lib/python3.7/site-packages (from astroid<=2.5,>=2.4.0->pylint) (1.12.1)\n"
     ]
    }
   ],
   "source": [
    "! pip install pylint"
   ]
  },
  {
   "cell_type": "code",
   "execution_count": 2,
   "metadata": {},
   "outputs": [
    {
     "name": "stdout",
     "output_type": "stream",
     "text": [
      "Collecting unittest2\n",
      "  Downloading unittest2-1.1.0-py2.py3-none-any.whl (96 kB)\n",
      "\u001b[K     |████████████████████████████████| 96 kB 2.9 MB/s eta 0:00:01\n",
      "\u001b[?25hCollecting argparse\n",
      "  Downloading argparse-1.4.0-py2.py3-none-any.whl (23 kB)\n",
      "Requirement already satisfied: six>=1.4 in /srv/conda/envs/notebook/lib/python3.7/site-packages (from unittest2) (1.15.0)\n",
      "Collecting traceback2\n",
      "  Downloading traceback2-1.4.0-py2.py3-none-any.whl (16 kB)\n",
      "Collecting linecache2\n",
      "  Downloading linecache2-1.0.0-py2.py3-none-any.whl (12 kB)\n",
      "Installing collected packages: argparse, linecache2, traceback2, unittest2\n",
      "Successfully installed argparse-1.4.0 linecache2-1.0.0 traceback2-1.4.0 unittest2-1.1.0\n"
     ]
    }
   ],
   "source": [
    "! pip install unittest2"
   ]
  },
  {
   "cell_type": "code",
   "execution_count": 36,
   "metadata": {},
   "outputs": [
    {
     "name": "stdout",
     "output_type": "stream",
     "text": [
      "Writing prime.py\n"
     ]
    }
   ],
   "source": [
    "%%writefile prime.py\n",
    "\n",
    "'''\n",
    "Writing Python file to check if the given number is prime\n",
    "'''\n",
    "def isprime(i):\n",
    "    '''\n",
    "    function to check for prime number.\n",
    "    '''\n",
    "    if i in(0, 1):\n",
    "        return False\n",
    "    for prime in range(2, i):\n",
    "        if i % prime == 0:\n",
    "            return False\n",
    "        return True"
   ]
  },
  {
   "cell_type": "code",
   "execution_count": 37,
   "metadata": {
    "scrolled": true
   },
   "outputs": [
    {
     "name": "stdout",
     "output_type": "stream",
     "text": [
      "\r\n",
      "------------------------------------\r\n",
      "Your code has been rated at 10.00/10\r\n",
      "\r\n"
     ]
    }
   ],
   "source": [
    "! pylint \"prime.py\""
   ]
  },
  {
   "cell_type": "code",
   "execution_count": null,
   "metadata": {},
   "outputs": [],
   "source": []
  },
  {
   "cell_type": "markdown",
   "metadata": {},
   "source": [
    "## UNIT TESTING"
   ]
  },
  {
   "cell_type": "code",
   "execution_count": 40,
   "metadata": {},
   "outputs": [
    {
     "name": "stdout",
     "output_type": "stream",
     "text": [
      "Overwriting newprime.py\n"
     ]
    }
   ],
   "source": [
    "\n",
    "%%writefile newprime.py\n",
    "\n",
    "import unittest\n",
    "import prime\n",
    "\n",
    "class primenumber(unittest.TestCase):\n",
    "    def testprime(self):\n",
    "        Number = 32\n",
    "        result = prime.isprime(Number)\n",
    "        self.assertEqual(result, False)\n",
    "\n",
    "        \n",
    "    def testprimenum(self):\n",
    "        Num = 199\n",
    "        res = prime.isprime(Num)\n",
    "        self.assertEqual(res, True)\n",
    "\n",
    "        \n",
    "        \n",
    "if __name__ == \"__main__\":\n",
    "    unittest.main()"
   ]
  },
  {
   "cell_type": "code",
   "execution_count": 41,
   "metadata": {},
   "outputs": [
    {
     "name": "stdout",
     "output_type": "stream",
     "text": [
      "..\r\n",
      "----------------------------------------------------------------------\r\n",
      "Ran 2 tests in 0.000s\r\n",
      "\r\n",
      "OK\r\n"
     ]
    }
   ],
   "source": [
    "! python newprime.py"
   ]
  }
 ],
 "metadata": {
  "kernelspec": {
   "display_name": "Python 3",
   "language": "python",
   "name": "python3"
  },
  "language_info": {
   "codemirror_mode": {
    "name": "ipython",
    "version": 3
   },
   "file_extension": ".py",
   "mimetype": "text/x-python",
   "name": "python",
   "nbconvert_exporter": "python",
   "pygments_lexer": "ipython3",
   "version": "3.7.8"
  }
 },
 "nbformat": 4,
 "nbformat_minor": 4
}
