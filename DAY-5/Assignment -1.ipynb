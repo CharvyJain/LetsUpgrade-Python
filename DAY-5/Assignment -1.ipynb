{
 "cells": [
  {
   "cell_type": "markdown",
   "metadata": {},
   "source": [
    "## Write a program to identify sub list [1, 1, 5] is there in the given list in the same order or not"
   ]
  },
  {
   "cell_type": "code",
   "execution_count": 1,
   "metadata": {},
   "outputs": [
    {
     "name": "stdout",
     "output_type": "stream",
     "text": [
      "Its a Match\n"
     ]
    }
   ],
   "source": [
    "a = [1, 2, 6, 2, 1, 5]\n",
    "list1 = set(a)\n",
    "\n",
    "b = [1, 1, 5]\n",
    "sublist1 = set(b)\n",
    "\n",
    "if set(sublist1).issubset(set(list1)):\n",
    "    print(\"Its a Match\")\n",
    "else:\n",
    "    print(\"Its Gone\")"
   ]
  }
 ],
 "metadata": {
  "kernelspec": {
   "display_name": "Python 3",
   "language": "python",
   "name": "python3"
  },
  "language_info": {
   "codemirror_mode": {
    "name": "ipython",
    "version": 3
   },
   "file_extension": ".py",
   "mimetype": "text/x-python",
   "name": "python",
   "nbconvert_exporter": "python",
   "pygments_lexer": "ipython3",
   "version": "3.7.8"
  }
 },
 "nbformat": 4,
 "nbformat_minor": 4
}
