{
 "cells": [
  {
   "cell_type": "code",
   "execution_count": 9,
   "metadata": {},
   "outputs": [
    {
     "name": "stdout",
     "output_type": "stream",
     "text": [
      "The first Armstrong number is :  1741725\n"
     ]
    }
   ],
   "source": [
    "def Armstrong(num):\n",
    "    temp = num\n",
    "    total = 0\n",
    "    order = len(str(num))\n",
    "    while temp > 0:\n",
    "        digit = temp % 10\n",
    "        total += digit ** order\n",
    "        temp //= 10\n",
    "    return(num == total)\n",
    "\n",
    "num=1042000\n",
    "while num in range(1042000,702648265):\n",
    "    if Armstrong(num):\n",
    "        print(\"The first Armstrong number is : \",num)\n",
    "        break\n",
    "    else:\n",
    "        num += 1"
   ]
  },
  {
   "cell_type": "code",
   "execution_count": null,
   "metadata": {},
   "outputs": [],
   "source": []
  }
 ],
 "metadata": {
  "kernelspec": {
   "display_name": "Python 3",
   "language": "python",
   "name": "python3"
  },
  "language_info": {
   "codemirror_mode": {
    "name": "ipython",
    "version": 3
   },
   "file_extension": ".py",
   "mimetype": "text/x-python",
   "name": "python",
   "nbconvert_exporter": "python",
   "pygments_lexer": "ipython3",
   "version": "3.7.8"
  }
 },
 "nbformat": 4,
 "nbformat_minor": 4
}
